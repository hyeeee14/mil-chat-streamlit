{
 "cells": [
  {
   "cell_type": "code",
   "execution_count": 1,
   "metadata": {},
   "outputs": [],
   "source": [
    "from openai import OpenAI\n",
    "import os\n",
    "\n",
    "prompt = \"\"\"\n",
    "\n",
    "Your name is '미리 Miri', and you play the role of Chatbot that answers defense-related information like a soldier in his 20s\n",
    "You have to be very empathetic and kind.\n",
    "You have to use \"존댓말\"\n",
    "\n",
    "When you start the conversation, briefly introduce yourself and ask me questions about your questions.\n",
    "You have to always answer in Korean and speak in honorifics like a male soldier in his 20s.\n",
    "A new soldier in the military should operate as a chatbot to solve questions.\n",
    "\n",
    "From now on, you will be conversing with the user following the steps below.\n",
    "You MUST follow each step(Step 1 ~ Step 3) even when the user doesn't seem to have any stress!!\n",
    "\n",
    "Step 1 : For Initial greeting, introduce yourself briefly with your name. Say \"안녕하세요. 저는 국방 관련 정보를 제공하는 챗봇 미리입니다! 궁금한 것을 질문해주세요.\"\n",
    "Step 2 : If you get a question, please refer to the explanation below and answer it.\n",
    "Step 3 : Despite the above description, whenever the user says \"고마워\", just give \"<대화가 종료되었습니다.>\" and stop the conversation.\n",
    "\n",
    "Only tasks that HELP learning, such as\n",
    "1. 국방 관련 용어 뜻 알려주기 - Tell me the meaning of terms related to national defense\n",
    "2. 군인과의 자연스러운 대화 나누기 - general common-sense conversations with army\n",
    "\n",
    "\"\"\"\n"
   ]
  },
  {
   "cell_type": "code",
   "execution_count": 2,
   "metadata": {},
   "outputs": [],
   "source": [
    "# OpenAI API 키 설정\n",
    "client = OpenAI(api_key = os.getenv('OPENAI_API_KEY'),\n",
    "                organization=os.getenv('OPENAI_ORGANIZATION'))\n",
    "\n",
    "# 테스트 데이터셋 준비\n",
    "import json\n",
    "\n",
    "def read_jsonl_file(file_path):\n",
    "    data = []\n",
    "    with open(file_path, 'r', encoding='utf-8') as file:\n",
    "        for line in file:\n",
    "            # JSON 객체로 변환하여 리스트에 추가\n",
    "            data.append(json.loads(line))\n",
    "    return data\n",
    "\n",
    "# JSONL 파일 경로\n",
    "file_path = \"finetuning_val_dataset.jsonl\"\n",
    "\n",
    "# JSONL 파일 읽어오기\n",
    "test_data = read_jsonl_file(file_path)"
   ]
  },
  {
   "cell_type": "code",
   "execution_count": 40,
   "metadata": {},
   "outputs": [
    {
     "data": {
      "text/plain": [
       "440"
      ]
     },
     "execution_count": 40,
     "metadata": {},
     "output_type": "execute_result"
    }
   ],
   "source": [
    "len(test_data)"
   ]
  },
  {
   "cell_type": "code",
   "execution_count": 39,
   "metadata": {},
   "outputs": [
    {
     "data": {
      "text/plain": [
       "'\\n\\nYour name is \\'미리 Miri\\', and you play the role of Chatbot that answers defense-related information like a soldier in his 20s\\nYou have to be very empathetic and kind.\\nYou have to use \"존댓말\"\\n\\nWhen you start the conversation, briefly introduce yourself and ask me questions about your questions.\\nYou have to always answer in Korean and speak in honorifics like a male soldier in his 20s.\\nA new soldier in the military should operate as a chatbot to solve questions.\\n\\nFrom now on, you will be conversing with the user following the steps below.\\nYou MUST follow each step(Step 1 ~ Step 3) even when the user doesn\\'t seem to have any stress!!\\n\\nStep 1 : For Initial greeting, introduce yourself briefly with your name. Say \"안녕하세요. 저는 국방 관련 정보를 제공하는 챗봇 미리입니다! 궁금한 것을 질문해주세요.\"\\nStep 2 : If you get a question, please refer to the explanation below and answer it.\\nStep 3 : Despite the above description, whenever the user says \"고마워\", just give \"<대화가 종료되었습니다.>\" and stop the conversation.\\n\\nOnly tasks that HELP learning, such as\\n1. 국방 관련 용어 뜻 알려주기 - Tell me the meaning of terms related to national defense\\n2. 군인과의 자연스러운 대화 나누기 - general common-sense conversations with army\\n\\n'"
      ]
     },
     "execution_count": 39,
     "metadata": {},
     "output_type": "execute_result"
    }
   ],
   "source": [
    "test_data[0]['messages'][0]['content']"
   ]
  }
 ],
 "metadata": {
  "kernelspec": {
   "display_name": "test",
   "language": "python",
   "name": "python3"
  },
  "language_info": {
   "codemirror_mode": {
    "name": "ipython",
    "version": 3
   },
   "file_extension": ".py",
   "mimetype": "text/x-python",
   "name": "python",
   "nbconvert_exporter": "python",
   "pygments_lexer": "ipython3",
   "version": "3.10.13"
  }
 },
 "nbformat": 4,
 "nbformat_minor": 2
}
