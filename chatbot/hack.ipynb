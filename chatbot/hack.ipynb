{
 "cells": [
  {
   "cell_type": "code",
   "execution_count": 64,
   "metadata": {},
   "outputs": [],
   "source": [
    "import openai\n",
    "import streamlit\n",
    "\n",
    "import collections \n",
    "import torch\n",
    "from kogpt2_transformers import get_kogpt2_model, get_kogpt2_tokenizer\n",
    "import pandas as pd\n",
    "\n",
    "\n"
   ]
  },
  {
   "cell_type": "code",
   "execution_count": 23,
   "metadata": {},
   "outputs": [
    {
     "data": {
      "text/html": [
       "<div>\n",
       "<style scoped>\n",
       "    .dataframe tbody tr th:only-of-type {\n",
       "        vertical-align: middle;\n",
       "    }\n",
       "\n",
       "    .dataframe tbody tr th {\n",
       "        vertical-align: top;\n",
       "    }\n",
       "\n",
       "    .dataframe thead th {\n",
       "        text-align: right;\n",
       "    }\n",
       "</style>\n",
       "<table border=\"1\" class=\"dataframe\">\n",
       "  <thead>\n",
       "    <tr style=\"text-align: right;\">\n",
       "      <th></th>\n",
       "      <th>Question</th>\n",
       "      <th>Answer</th>\n",
       "      <th>Class</th>\n",
       "      <th>Label</th>\n",
       "    </tr>\n",
       "  </thead>\n",
       "  <tbody>\n",
       "    <tr>\n",
       "      <th>0</th>\n",
       "      <td>당직근무</td>\n",
       "      <td>철야 동안 부대를 감독 및 관리하는 근무</td>\n",
       "      <td>보직 및 임무편</td>\n",
       "      <td>0</td>\n",
       "    </tr>\n",
       "    <tr>\n",
       "      <th>1</th>\n",
       "      <td>각개전투</td>\n",
       "      <td>가장 작은 단위의 편제로 수행하는 전투로, 기초군사훈련에서 시행하는 단위 별 전술훈련</td>\n",
       "      <td>보직 및 임무편</td>\n",
       "      <td>0</td>\n",
       "    </tr>\n",
       "    <tr>\n",
       "      <th>2</th>\n",
       "      <td>GOP</td>\n",
       "      <td>남방한계선 철책선에서 24시간 경계근무를 하며 적의 기습에 대비하는 소대단위 초소</td>\n",
       "      <td>보직 및 임무편</td>\n",
       "      <td>0</td>\n",
       "    </tr>\n",
       "    <tr>\n",
       "      <th>3</th>\n",
       "      <td>참호</td>\n",
       "      <td>야전에서 적의 공격에 대비하여 만든 방어 설비</td>\n",
       "      <td>보직 및 임무편</td>\n",
       "      <td>0</td>\n",
       "    </tr>\n",
       "    <tr>\n",
       "      <th>4</th>\n",
       "      <td>야전</td>\n",
       "      <td>산이나 들 따위의 야외에서 벌이는 전투</td>\n",
       "      <td>보직 및 임무편</td>\n",
       "      <td>0</td>\n",
       "    </tr>\n",
       "  </tbody>\n",
       "</table>\n",
       "</div>"
      ],
      "text/plain": [
       "  Question                                           Answer     Class  Label\n",
       "0     당직근무                           철야 동안 부대를 감독 및 관리하는 근무  보직 및 임무편      0\n",
       "1     각개전투  가장 작은 단위의 편제로 수행하는 전투로, 기초군사훈련에서 시행하는 단위 별 전술훈련  보직 및 임무편      0\n",
       "2      GOP    남방한계선 철책선에서 24시간 경계근무를 하며 적의 기습에 대비하는 소대단위 초소  보직 및 임무편      0\n",
       "3       참호                        야전에서 적의 공격에 대비하여 만든 방어 설비  보직 및 임무편      0\n",
       "4       야전                            산이나 들 따위의 야외에서 벌이는 전투  보직 및 임무편      0"
      ]
     },
     "execution_count": 23,
     "metadata": {},
     "output_type": "execute_result"
    }
   ],
   "source": [
    "#urllib.request.urlretrieve(\"https://raw.githubusercontent.com/songys/Chatbot_data/master/ChatbotData.csv\", filename=\"ChatBotData.csv\")\n",
    "train_data = pd.read_csv('QA.csv', encoding='cp949')\n",
    "train_data.head()"
   ]
  },
  {
   "cell_type": "code",
   "execution_count": 62,
   "metadata": {},
   "outputs": [],
   "source": [
    "def create_question(train_data):\n",
    "    \n",
    "    train_data_q = collections.OrderedDict()\n",
    "\n",
    "    for i in range(10):        \n",
    "        train_data_q[i] = train_data.Question[i] + \"가 뭐야?\"\n",
    "\n",
    "create_question(train_data)"
   ]
  },
  {
   "cell_type": "code",
   "execution_count": 74,
   "metadata": {},
   "outputs": [
    {
     "ename": "IndexError",
     "evalue": "list assignment index out of range",
     "output_type": "error",
     "traceback": [
      "\u001b[1;31m---------------------------------------------------------------------------\u001b[0m",
      "\u001b[1;31mIndexError\u001b[0m                                Traceback (most recent call last)",
      "Cell \u001b[1;32mIn[74], line 3\u001b[0m\n\u001b[0;32m      1\u001b[0m train_data_q \u001b[38;5;241m=\u001b[39m []\n\u001b[0;32m      2\u001b[0m \u001b[38;5;28;01mfor\u001b[39;00m i \u001b[38;5;129;01min\u001b[39;00m \u001b[38;5;28mrange\u001b[39m(\u001b[38;5;241m5\u001b[39m):        \n\u001b[1;32m----> 3\u001b[0m         \u001b[43mtrain_data_q\u001b[49m\u001b[43m[\u001b[49m\u001b[43mi\u001b[49m\u001b[43m]\u001b[49m \u001b[38;5;241m=\u001b[39m train_data\u001b[38;5;241m.\u001b[39mQuestion[i] \u001b[38;5;241m+\u001b[39m \u001b[38;5;124m\"\u001b[39m\u001b[38;5;124m가 뭐야?\u001b[39m\u001b[38;5;124m\"\u001b[39m\n",
      "\u001b[1;31mIndexError\u001b[0m: list assignment index out of range"
     ]
    }
   ],
   "source": [
    "\n",
    "\n"
   ]
  },
  {
   "cell_type": "code",
   "execution_count": 57,
   "metadata": {},
   "outputs": [
    {
     "name": "stdout",
     "output_type": "stream",
     "text": [
      "각개전투가 뭐야?\n",
      "가장 작은 단위의 편제로 수행하는 전투로, 기초군사훈련에서 시행하는 단위 별 전술훈련이야\n"
     ]
    }
   ],
   "source": [
    "print(train_data.Question[1] + \"가 뭐야?\")\n",
    "print(train_data.Answer[1] + \"이야\")\n"
   ]
  }
 ],
 "metadata": {
  "kernelspec": {
   "display_name": "test",
   "language": "python",
   "name": "python3"
  },
  "language_info": {
   "codemirror_mode": {
    "name": "ipython",
    "version": 3
   },
   "file_extension": ".py",
   "mimetype": "text/x-python",
   "name": "python",
   "nbconvert_exporter": "python",
   "pygments_lexer": "ipython3",
   "version": "3.10.13"
  }
 },
 "nbformat": 4,
 "nbformat_minor": 2
}
